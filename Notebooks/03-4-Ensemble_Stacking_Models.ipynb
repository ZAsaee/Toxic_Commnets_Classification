{
 "cells": [
  {
   "cell_type": "markdown",
   "id": "d1ad8e38",
   "metadata": {},
   "source": [
    "## DISCLAIMER AND WARNING: Because of the nature of this project, this report contains words that are very offensive. Needless to say, it is not the intention of the author of this report, and this project, to offend anybody."
   ]
  },
  {
   "cell_type": "markdown",
   "id": "5b7eaa72",
   "metadata": {},
   "source": [
    "# Modeling - Classification Algorithms"
   ]
  },
  {
   "cell_type": "markdown",
   "id": "803aef3e",
   "metadata": {},
   "source": [
    "## Table of Contents:\n",
    "[1. Import Train and Test Set](#1.-Import-Train-and-Test-Set)\n",
    "<br>[2. Classifiers](#2.-Classifiers)\n",
    "<br>&emsp;&emsp;&emsp;[2.1.1. TF-IDF and Logistic Regression](#2.1.1.-TF-IDF-and-Logistic-Regression)\n",
    "<br>&emsp;&emsp;&emsp;[2.1.2. TF-IDF, Random Oversampler and Logistic Regression](#2.1.2.-TF-IDF,-Random-Oversampler-and-Logistic-Regression)\n",
    "<br>&emsp;&emsp;&emsp;[2.1.3. TF-IDF, SMOTE Oversampling and Logistic Regression](#2.1.3.-TF-IDF,-SMOTE-Oversampling-and-Logistic-Regression)\n",
    "<br>&emsp;&emsp;&emsp;[2.1.4. TF-IDF, Random Undersampler and Logistic Regression](#2.1.4.-TF-IDF,-Random-Undersampler-and-Logistic-Regression)\n",
    "<br>&emsp;&emsp;&emsp;[2.1.5. TF-IDF, NearMiss Undersampler and Logistic Regression](#2.1.5.-TF-IDF,-NearMiss-Undersampler-and-Logistic-Regression)\n",
    "<br>&emsp;&emsp;&emsp;[2.1.6. Countvectorizer and Logistic Regression](#2.1.6.-Countvectorizer-and-Logistic-Regression)\n",
    "<br>&emsp;&emsp;&emsp;[2.1.7. Countvectorizer, Random Oversampler and Logistic Regression](#2.1.7.-Countvectorizer,-Random-Oversampler-and-Logistic-Regression)\n",
    "<br>&emsp;&emsp;&emsp;[2.1.8. Countvectorizer, SMOTE Oversampler and Logistic Regression](#2.1.8.-Countvectorizer,-SMOTE-Oversampler-and-Logistic-Regression)\n",
    "<br>[2.2. Naive Bayes](#2.2.-Naive-Bayes)\n",
    "<br>&emsp;&emsp;&emsp;[2.2.1. TFIDF and Naive Bayes](#2.2.1.-TFIDF-and-Naive-Bayes)\n",
    "<br>&emsp;&emsp;&emsp;[2.2.2. TFIDF, Random Oversampler and Naive Bayes](#2.2.2.-TFIDF,-Random-Oversampler-and-Naive-Bayes)\n",
    "<br>&emsp;&emsp;&emsp;[2.2.3. TFIDF, SMOTE and Naive Bayes](#2.2.3.-TFIDF,-SMOTE-and-Naive-Bayes)\n",
    "<br>&emsp;&emsp;&emsp;[2.2.4. TFIDF, Random Undersampler and Naive Bayes](#2.2.4.-TFIDF,-Random-Undersampler-and-Naive-Bayes)\n",
    "<br>&emsp;&emsp;&emsp;[2.2.5. TF-IDF, NearMiss Undersampler and Naive Bayes](#2.2.5.-TF-IDF,-NearMiss-Undersampler-and-Naive-Bayes)\n",
    "<br>[2.3. Random Forests](#2.3.-Random-Forests)\n",
    "<br>&emsp;&emsp;&emsp;[2.3.1. TF-IDF and Random Forests](#2.3.1.-TF-IDF-and-Random-Forests)\n",
    "<br>&emsp;&emsp;&emsp;[2.3.2. TF-IDF, Random Oversampler and Random Forests](#2.3.2.-TF-IDF,-Random-Oversampler-and-Random-Forests)\n",
    "<br>[3. Summary of Results](#3.-Summary-of-Results)"
   ]
  },
  {
   "cell_type": "code",
   "execution_count": 2,
   "id": "cf125024",
   "metadata": {},
   "outputs": [
    {
     "name": "stderr",
     "output_type": "stream",
     "text": [
      "/Users/zori/opt/anaconda3/lib/python3.9/site-packages/xgboost/compat.py:36: FutureWarning: pandas.Int64Index is deprecated and will be removed from pandas in a future version. Use pandas.Index with the appropriate dtype instead.\n",
      "  from pandas import MultiIndex, Int64Index\n"
     ]
    }
   ],
   "source": [
    "import pandas as pd\n",
    "import numpy as np\n",
    "import time\n",
    "import matplotlib.pyplot as plt\n",
    "import seaborn as sns\n",
    "from pprint import pprint\n",
    "from sklearn.utils.fixes import loguniform\n",
    "from itertools import cycle\n",
    "from timeit import default_timer as timer\n",
    "\n",
    "from sklearn.preprocessing import OneHotEncoder\n",
    "\n",
    "from sklearn.model_selection import train_test_split\n",
    "from sklearn.model_selection import StratifiedKFold\n",
    "from sklearn.linear_model import LogisticRegression\n",
    "from sklearn.ensemble import RandomForestClassifier\n",
    "from sklearn.ensemble import GradientBoostingClassifier\n",
    "from lightgbm import LGBMClassifier\n",
    "from sklearn import naive_bayes\n",
    "from sklearn.neighbors import KNeighborsClassifier\n",
    "from sklearn import svm\n",
    "from xgboost import XGBClassifier\n",
    "\n",
    "from sklearn.feature_extraction.text import CountVectorizer\n",
    "from sklearn.feature_extraction.text import TfidfVectorizer\n",
    "\n",
    "from sklearn.pipeline import Pipeline\n",
    "from sklearn.pipeline import make_pipeline\n",
    "\n",
    "from sklearn.metrics import classification_report\n",
    "from sklearn.metrics import PrecisionRecallDisplay\n",
    "from sklearn.metrics import RocCurveDisplay\n",
    "\n",
    "from sklearn.ensemble import StackingClassifier\n",
    "\n",
    "from sklearn.metrics import precision_recall_curve\n",
    "from sklearn.metrics import average_precision_score\n",
    "from sklearn.metrics import roc_auc_score, roc_curve, auc\n",
    "from sklearn.metrics import precision_recall_fscore_support\n",
    "\n",
    "from imblearn.pipeline import Pipeline as imbpipeline\n",
    "from imblearn.over_sampling import RandomOverSampler\n",
    "from imblearn.over_sampling import SMOTE\n",
    "from imblearn.under_sampling import RandomUnderSampler\n",
    "from imblearn.under_sampling import NearMiss\n",
    "from imblearn.combine import SMOTEENN\n",
    "from imblearn.combine import SMOTETomek\n",
    "\n",
    "from skopt import BayesSearchCV\n",
    "from skopt.space import Real, Categorical, Integer\n",
    "\n",
    "from Bayes_Opt_Classification import bayes_kfold_pipeline\n",
    "\n",
    "sns.set_context('talk', rc={\"grid.linewidth\": 0.8})\n",
    "\n",
    "%matplotlib inline"
   ]
  },
  {
   "cell_type": "markdown",
   "id": "b6f9025e",
   "metadata": {},
   "source": [
    "## 1. Import Train and Test Set"
   ]
  },
  {
   "cell_type": "code",
   "execution_count": 3,
   "id": "a9ec47db",
   "metadata": {
    "scrolled": true
   },
   "outputs": [
    {
     "data": {
      "text/html": [
       "<div>\n",
       "<style scoped>\n",
       "    .dataframe tbody tr th:only-of-type {\n",
       "        vertical-align: middle;\n",
       "    }\n",
       "\n",
       "    .dataframe tbody tr th {\n",
       "        vertical-align: top;\n",
       "    }\n",
       "\n",
       "    .dataframe thead th {\n",
       "        text-align: right;\n",
       "    }\n",
       "</style>\n",
       "<table border=\"1\" class=\"dataframe\">\n",
       "  <thead>\n",
       "    <tr style=\"text-align: right;\">\n",
       "      <th></th>\n",
       "      <th>clean_text</th>\n",
       "      <th>toxic_type</th>\n",
       "    </tr>\n",
       "  </thead>\n",
       "  <tbody>\n",
       "    <tr>\n",
       "      <th>0</th>\n",
       "      <td>explanation edit make username hardcore metall...</td>\n",
       "      <td>0</td>\n",
       "    </tr>\n",
       "    <tr>\n",
       "      <th>1</th>\n",
       "      <td>aww match background colour seemingly stuck th...</td>\n",
       "      <td>0</td>\n",
       "    </tr>\n",
       "    <tr>\n",
       "      <th>2</th>\n",
       "      <td>hey man really not try edit war guy constantly...</td>\n",
       "      <td>0</td>\n",
       "    </tr>\n",
       "    <tr>\n",
       "      <th>3</th>\n",
       "      <td>make real suggestion improvement wonder sectio...</td>\n",
       "      <td>0</td>\n",
       "    </tr>\n",
       "    <tr>\n",
       "      <th>4</th>\n",
       "      <td>sir hero chance remember page</td>\n",
       "      <td>0</td>\n",
       "    </tr>\n",
       "  </tbody>\n",
       "</table>\n",
       "</div>"
      ],
      "text/plain": [
       "                                          clean_text  toxic_type\n",
       "0  explanation edit make username hardcore metall...           0\n",
       "1  aww match background colour seemingly stuck th...           0\n",
       "2  hey man really not try edit war guy constantly...           0\n",
       "3  make real suggestion improvement wonder sectio...           0\n",
       "4                      sir hero chance remember page           0"
      ]
     },
     "execution_count": 3,
     "metadata": {},
     "output_type": "execute_result"
    }
   ],
   "source": [
    "df = pd.read_csv('Library/cleaned_text_train_df.csv')\n",
    "df.head()"
   ]
  },
  {
   "cell_type": "code",
   "execution_count": 4,
   "id": "0a9d37db",
   "metadata": {},
   "outputs": [
    {
     "data": {
      "text/plain": [
       "clean_text    54\n",
       "toxic_type     0\n",
       "dtype: int64"
      ]
     },
     "execution_count": 4,
     "metadata": {},
     "output_type": "execute_result"
    }
   ],
   "source": [
    "df.isna().sum()"
   ]
  },
  {
   "cell_type": "code",
   "execution_count": 5,
   "id": "f7a5eadb",
   "metadata": {},
   "outputs": [],
   "source": [
    "df.dropna(inplace=True)"
   ]
  },
  {
   "cell_type": "code",
   "execution_count": 6,
   "id": "6e2d3bf4",
   "metadata": {},
   "outputs": [
    {
     "data": {
      "text/html": [
       "<div>\n",
       "<style scoped>\n",
       "    .dataframe tbody tr th:only-of-type {\n",
       "        vertical-align: middle;\n",
       "    }\n",
       "\n",
       "    .dataframe tbody tr th {\n",
       "        vertical-align: top;\n",
       "    }\n",
       "\n",
       "    .dataframe thead th {\n",
       "        text-align: right;\n",
       "    }\n",
       "</style>\n",
       "<table border=\"1\" class=\"dataframe\">\n",
       "  <thead>\n",
       "    <tr style=\"text-align: right;\">\n",
       "      <th></th>\n",
       "      <th>clean_text</th>\n",
       "      <th>toxic_type</th>\n",
       "    </tr>\n",
       "  </thead>\n",
       "  <tbody>\n",
       "    <tr>\n",
       "      <th>0</th>\n",
       "      <td>thank understand think highly would not revert...</td>\n",
       "      <td>0</td>\n",
       "    </tr>\n",
       "    <tr>\n",
       "      <th>1</th>\n",
       "      <td>dear god site horrible</td>\n",
       "      <td>0</td>\n",
       "    </tr>\n",
       "    <tr>\n",
       "      <th>2</th>\n",
       "      <td>somebody invariably try add religion really me...</td>\n",
       "      <td>0</td>\n",
       "    </tr>\n",
       "    <tr>\n",
       "      <th>3</th>\n",
       "      <td>say right type type institution need case thre...</td>\n",
       "      <td>0</td>\n",
       "    </tr>\n",
       "    <tr>\n",
       "      <th>4</th>\n",
       "      <td>add new product list make sure relevant add ne...</td>\n",
       "      <td>0</td>\n",
       "    </tr>\n",
       "  </tbody>\n",
       "</table>\n",
       "</div>"
      ],
      "text/plain": [
       "                                          clean_text  toxic_type\n",
       "0  thank understand think highly would not revert...           0\n",
       "1                             dear god site horrible           0\n",
       "2  somebody invariably try add religion really me...           0\n",
       "3  say right type type institution need case thre...           0\n",
       "4  add new product list make sure relevant add ne...           0"
      ]
     },
     "execution_count": 6,
     "metadata": {},
     "output_type": "execute_result"
    }
   ],
   "source": [
    "df_test = pd.read_csv('Library/cleaned_text_test_df.csv')\n",
    "df_test.head()"
   ]
  },
  {
   "cell_type": "code",
   "execution_count": 7,
   "id": "95073e62",
   "metadata": {},
   "outputs": [
    {
     "data": {
      "text/plain": [
       "clean_text    437\n",
       "toxic_type      0\n",
       "dtype: int64"
      ]
     },
     "execution_count": 7,
     "metadata": {},
     "output_type": "execute_result"
    }
   ],
   "source": [
    "df_test.isna().sum()"
   ]
  },
  {
   "cell_type": "code",
   "execution_count": 8,
   "id": "3549df92",
   "metadata": {},
   "outputs": [],
   "source": [
    "df_test = df_test.dropna()"
   ]
  },
  {
   "cell_type": "code",
   "execution_count": 9,
   "id": "4ca9f992",
   "metadata": {
    "scrolled": true
   },
   "outputs": [
    {
     "data": {
      "text/html": [
       "<div>\n",
       "<style scoped>\n",
       "    .dataframe tbody tr th:only-of-type {\n",
       "        vertical-align: middle;\n",
       "    }\n",
       "\n",
       "    .dataframe tbody tr th {\n",
       "        vertical-align: top;\n",
       "    }\n",
       "\n",
       "    .dataframe thead th {\n",
       "        text-align: right;\n",
       "    }\n",
       "</style>\n",
       "<table border=\"1\" class=\"dataframe\">\n",
       "  <thead>\n",
       "    <tr style=\"text-align: right;\">\n",
       "      <th></th>\n",
       "      <th>clean_text</th>\n",
       "      <th>toxic_type</th>\n",
       "    </tr>\n",
       "  </thead>\n",
       "  <tbody>\n",
       "    <tr>\n",
       "      <th>0</th>\n",
       "      <td>thank understand think highly would not revert...</td>\n",
       "      <td>0</td>\n",
       "    </tr>\n",
       "    <tr>\n",
       "      <th>1</th>\n",
       "      <td>dear god site horrible</td>\n",
       "      <td>0</td>\n",
       "    </tr>\n",
       "    <tr>\n",
       "      <th>2</th>\n",
       "      <td>somebody invariably try add religion really me...</td>\n",
       "      <td>0</td>\n",
       "    </tr>\n",
       "    <tr>\n",
       "      <th>3</th>\n",
       "      <td>say right type type institution need case thre...</td>\n",
       "      <td>0</td>\n",
       "    </tr>\n",
       "    <tr>\n",
       "      <th>4</th>\n",
       "      <td>add new product list make sure relevant add ne...</td>\n",
       "      <td>0</td>\n",
       "    </tr>\n",
       "  </tbody>\n",
       "</table>\n",
       "</div>"
      ],
      "text/plain": [
       "                                          clean_text  toxic_type\n",
       "0  thank understand think highly would not revert...           0\n",
       "1                             dear god site horrible           0\n",
       "2  somebody invariably try add religion really me...           0\n",
       "3  say right type type institution need case thre...           0\n",
       "4  add new product list make sure relevant add ne...           0"
      ]
     },
     "execution_count": 9,
     "metadata": {},
     "output_type": "execute_result"
    }
   ],
   "source": [
    "df_test.head()"
   ]
  },
  {
   "cell_type": "code",
   "execution_count": 10,
   "id": "9496314b",
   "metadata": {},
   "outputs": [],
   "source": [
    "X_train = df['clean_text']\n",
    "y_train = df['toxic_type']\n",
    "\n",
    "X_test = df_test['clean_text']\n",
    "y_test = df_test['toxic_type']\n",
    "\n",
    "summary_dic ={}"
   ]
  },
  {
   "cell_type": "markdown",
   "id": "d34bac6a",
   "metadata": {},
   "source": [
    "## 2. Classifiers"
   ]
  },
  {
   "cell_type": "markdown",
   "id": "69be965a",
   "metadata": {},
   "source": [
    "### 2.1. Text Vectorization"
   ]
  },
  {
   "cell_type": "code",
   "execution_count": 12,
   "id": "8f0a24db",
   "metadata": {},
   "outputs": [],
   "source": [
    "tfidf = TfidfVectorizer(max_features=5000)\n",
    "tfidf_model = tfidf.fit(X_train)\n",
    "X_train_vec = tfidf_model.transform(X_train).toarray()\n",
    "X_test_vec = tfidf_model.transform(X_test).toarray()"
   ]
  },
  {
   "cell_type": "markdown",
   "id": "d83c016b",
   "metadata": {},
   "source": [
    "## LR and Naive"
   ]
  },
  {
   "cell_type": "code",
   "execution_count": 11,
   "id": "b9e20a6a",
   "metadata": {
    "scrolled": false
   },
   "outputs": [
    {
     "name": "stderr",
     "output_type": "stream",
     "text": [
      "[Parallel(n_jobs=6)]: Using backend ThreadingBackend with 6 concurrent workers.\n",
      "[Parallel(n_jobs=6)]: Using backend ThreadingBackend with 6 concurrent workers.\n",
      "[Parallel(n_jobs=6)]: Done   5 out of   5 | elapsed:  1.6min finished\n",
      "[Parallel(n_jobs=6)]: Done   5 out of   5 | elapsed:  1.9min finished\n"
     ]
    },
    {
     "data": {
      "text/html": [
       "<style>#sk-container-id-1 {color: black;background-color: white;}#sk-container-id-1 pre{padding: 0;}#sk-container-id-1 div.sk-toggleable {background-color: white;}#sk-container-id-1 label.sk-toggleable__label {cursor: pointer;display: block;width: 100%;margin-bottom: 0;padding: 0.3em;box-sizing: border-box;text-align: center;}#sk-container-id-1 label.sk-toggleable__label-arrow:before {content: \"▸\";float: left;margin-right: 0.25em;color: #696969;}#sk-container-id-1 label.sk-toggleable__label-arrow:hover:before {color: black;}#sk-container-id-1 div.sk-estimator:hover label.sk-toggleable__label-arrow:before {color: black;}#sk-container-id-1 div.sk-toggleable__content {max-height: 0;max-width: 0;overflow: hidden;text-align: left;background-color: #f0f8ff;}#sk-container-id-1 div.sk-toggleable__content pre {margin: 0.2em;color: black;border-radius: 0.25em;background-color: #f0f8ff;}#sk-container-id-1 input.sk-toggleable__control:checked~div.sk-toggleable__content {max-height: 200px;max-width: 100%;overflow: auto;}#sk-container-id-1 input.sk-toggleable__control:checked~label.sk-toggleable__label-arrow:before {content: \"▾\";}#sk-container-id-1 div.sk-estimator input.sk-toggleable__control:checked~label.sk-toggleable__label {background-color: #d4ebff;}#sk-container-id-1 div.sk-label input.sk-toggleable__control:checked~label.sk-toggleable__label {background-color: #d4ebff;}#sk-container-id-1 input.sk-hidden--visually {border: 0;clip: rect(1px 1px 1px 1px);clip: rect(1px, 1px, 1px, 1px);height: 1px;margin: -1px;overflow: hidden;padding: 0;position: absolute;width: 1px;}#sk-container-id-1 div.sk-estimator {font-family: monospace;background-color: #f0f8ff;border: 1px dotted black;border-radius: 0.25em;box-sizing: border-box;margin-bottom: 0.5em;}#sk-container-id-1 div.sk-estimator:hover {background-color: #d4ebff;}#sk-container-id-1 div.sk-parallel-item::after {content: \"\";width: 100%;border-bottom: 1px solid gray;flex-grow: 1;}#sk-container-id-1 div.sk-label:hover label.sk-toggleable__label {background-color: #d4ebff;}#sk-container-id-1 div.sk-serial::before {content: \"\";position: absolute;border-left: 1px solid gray;box-sizing: border-box;top: 0;bottom: 0;left: 50%;z-index: 0;}#sk-container-id-1 div.sk-serial {display: flex;flex-direction: column;align-items: center;background-color: white;padding-right: 0.2em;padding-left: 0.2em;position: relative;}#sk-container-id-1 div.sk-item {position: relative;z-index: 1;}#sk-container-id-1 div.sk-parallel {display: flex;align-items: stretch;justify-content: center;background-color: white;position: relative;}#sk-container-id-1 div.sk-item::before, #sk-container-id-1 div.sk-parallel-item::before {content: \"\";position: absolute;border-left: 1px solid gray;box-sizing: border-box;top: 0;bottom: 0;left: 50%;z-index: -1;}#sk-container-id-1 div.sk-parallel-item {display: flex;flex-direction: column;z-index: 1;position: relative;background-color: white;}#sk-container-id-1 div.sk-parallel-item:first-child::after {align-self: flex-end;width: 50%;}#sk-container-id-1 div.sk-parallel-item:last-child::after {align-self: flex-start;width: 50%;}#sk-container-id-1 div.sk-parallel-item:only-child::after {width: 0;}#sk-container-id-1 div.sk-dashed-wrapped {border: 1px dashed gray;margin: 0 0.4em 0.5em 0.4em;box-sizing: border-box;padding-bottom: 0.4em;background-color: white;}#sk-container-id-1 div.sk-label label {font-family: monospace;font-weight: bold;display: inline-block;line-height: 1.2em;}#sk-container-id-1 div.sk-label-container {text-align: center;}#sk-container-id-1 div.sk-container {/* jupyter's `normalize.less` sets `[hidden] { display: none; }` but bootstrap.min.css set `[hidden] { display: none !important; }` so we also need the `!important` here to be able to override the default hidden behavior on the sphinx rendered scikit-learn.org. See: https://github.com/scikit-learn/scikit-learn/issues/21755 */display: inline-block !important;position: relative;}#sk-container-id-1 div.sk-text-repr-fallback {display: none;}</style><div id=\"sk-container-id-1\" class=\"sk-top-container\"><div class=\"sk-text-repr-fallback\"><pre>StackingClassifier(cv=5,\n",
       "                   estimators=[(&#x27;LR&#x27;,\n",
       "                                LogisticRegression(C=10.539,\n",
       "                                                   solver=&#x27;liblinear&#x27;)),\n",
       "                               (&#x27;NB&#x27;, MultinomialNB(alpha=1))],\n",
       "                   final_estimator=LogisticRegression(solver=&#x27;liblinear&#x27;),\n",
       "                   n_jobs=6, verbose=1)</pre><b>In a Jupyter environment, please rerun this cell to show the HTML representation or trust the notebook. <br />On GitHub, the HTML representation is unable to render, please try loading this page with nbviewer.org.</b></div><div class=\"sk-container\" hidden><div class=\"sk-item sk-dashed-wrapped\"><div class=\"sk-label-container\"><div class=\"sk-label sk-toggleable\"><input class=\"sk-toggleable__control sk-hidden--visually\" id=\"sk-estimator-id-1\" type=\"checkbox\" ><label for=\"sk-estimator-id-1\" class=\"sk-toggleable__label sk-toggleable__label-arrow\">StackingClassifier</label><div class=\"sk-toggleable__content\"><pre>StackingClassifier(cv=5,\n",
       "                   estimators=[(&#x27;LR&#x27;,\n",
       "                                LogisticRegression(C=10.539,\n",
       "                                                   solver=&#x27;liblinear&#x27;)),\n",
       "                               (&#x27;NB&#x27;, MultinomialNB(alpha=1))],\n",
       "                   final_estimator=LogisticRegression(solver=&#x27;liblinear&#x27;),\n",
       "                   n_jobs=6, verbose=1)</pre></div></div></div><div class=\"sk-serial\"><div class=\"sk-item\"><div class=\"sk-parallel\"><div class=\"sk-parallel-item\"><div class=\"sk-item\"><div class=\"sk-label-container\"><div class=\"sk-label sk-toggleable\"><label>LR</label></div></div><div class=\"sk-serial\"><div class=\"sk-item\"><div class=\"sk-estimator sk-toggleable\"><input class=\"sk-toggleable__control sk-hidden--visually\" id=\"sk-estimator-id-2\" type=\"checkbox\" ><label for=\"sk-estimator-id-2\" class=\"sk-toggleable__label sk-toggleable__label-arrow\">LogisticRegression</label><div class=\"sk-toggleable__content\"><pre>LogisticRegression(C=10.539, solver=&#x27;liblinear&#x27;)</pre></div></div></div></div></div></div><div class=\"sk-parallel-item\"><div class=\"sk-item\"><div class=\"sk-label-container\"><div class=\"sk-label sk-toggleable\"><label>NB</label></div></div><div class=\"sk-serial\"><div class=\"sk-item\"><div class=\"sk-estimator sk-toggleable\"><input class=\"sk-toggleable__control sk-hidden--visually\" id=\"sk-estimator-id-3\" type=\"checkbox\" ><label for=\"sk-estimator-id-3\" class=\"sk-toggleable__label sk-toggleable__label-arrow\">MultinomialNB</label><div class=\"sk-toggleable__content\"><pre>MultinomialNB(alpha=1)</pre></div></div></div></div></div></div></div></div><div class=\"sk-item\"><div class=\"sk-parallel\"><div class=\"sk-parallel-item\"><div class=\"sk-item\"><div class=\"sk-label-container\"><div class=\"sk-label sk-toggleable\"><label>final_estimator</label></div></div><div class=\"sk-serial\"><div class=\"sk-item\"><div class=\"sk-estimator sk-toggleable\"><input class=\"sk-toggleable__control sk-hidden--visually\" id=\"sk-estimator-id-4\" type=\"checkbox\" ><label for=\"sk-estimator-id-4\" class=\"sk-toggleable__label sk-toggleable__label-arrow\">LogisticRegression</label><div class=\"sk-toggleable__content\"><pre>LogisticRegression(solver=&#x27;liblinear&#x27;)</pre></div></div></div></div></div></div></div></div></div></div></div></div>"
      ],
      "text/plain": [
       "StackingClassifier(cv=5,\n",
       "                   estimators=[('LR',\n",
       "                                LogisticRegression(C=10.539,\n",
       "                                                   solver='liblinear')),\n",
       "                               ('NB', MultinomialNB(alpha=1))],\n",
       "                   final_estimator=LogisticRegression(solver='liblinear'),\n",
       "                   n_jobs=6, verbose=1)"
      ]
     },
     "execution_count": 11,
     "metadata": {},
     "output_type": "execute_result"
    }
   ],
   "source": [
    "LR = LogisticRegression(C=10.539, solver='liblinear')\n",
    "NB = naive_bayes.MultinomialNB(alpha=1, fit_prior=True)\n",
    "\n",
    "estimator_list1=[('LR', LR), ('NB', NB)]\n",
    "\n",
    "clf1 = StackingClassifier(estimators=estimator_list1, final_estimator=LogisticRegression(solver='liblinear'),\n",
    "                        verbose=1, n_jobs=6, cv=5)\n",
    "clf1.fit(X_train_vec, y_train)"
   ]
  },
  {
   "cell_type": "code",
   "execution_count": 13,
   "id": "f5609ef7",
   "metadata": {},
   "outputs": [
    {
     "name": "stdout",
     "output_type": "stream",
     "text": [
      "              precision    recall  f1-score   support\n",
      "\n",
      "           0       0.98      0.94      0.96     57298\n",
      "           1       0.58      0.80      0.67      6243\n",
      "\n",
      "    accuracy                           0.92     63541\n",
      "   macro avg       0.78      0.87      0.81     63541\n",
      "weighted avg       0.94      0.92      0.93     63541\n",
      "\n"
     ]
    }
   ],
   "source": [
    "y_pred = clf1.predict(X_test_vec)\n",
    "\n",
    "print(classification_report(y_test, y_pred))"
   ]
  },
  {
   "cell_type": "markdown",
   "id": "2dbf782f",
   "metadata": {},
   "source": [
    "## LR, NB and RF Higher recall"
   ]
  },
  {
   "cell_type": "code",
   "execution_count": 17,
   "id": "ce4dafdf",
   "metadata": {
    "scrolled": false
   },
   "outputs": [
    {
     "name": "stderr",
     "output_type": "stream",
     "text": [
      "/Users/zori/opt/anaconda3/lib/python3.9/site-packages/sklearn/linear_model/_logistic.py:1153: UserWarning: 'n_jobs' > 1 does not have any effect when 'solver' is set to 'liblinear'. Got 'n_jobs' = 6.\n",
      "  warnings.warn(\n",
      "[Parallel(n_jobs=6)]: Using backend ThreadingBackend with 6 concurrent workers.\n"
     ]
    },
    {
     "name": "stdout",
     "output_type": "stream",
     "text": [
      "iter  1 act 5.842e+05 pre 5.354e+05 delta 1.742e+00 f 1.165e+06 |g| 6.764e+05 CG   1\n",
      "cg reaches trust region boundary\n",
      "iter  2 act 6.036e+04 pre 5.700e+04 delta 2.851e+00 f 5.811e+05 |g| 1.156e+05 CG   2\n",
      "cg reaches trust region boundary\n",
      "iter  3 act 4.672e+04 pre 4.646e+04 delta 1.140e+01 f 5.207e+05 |g| 2.377e+04 CG   2\n",
      "cg reaches trust region boundary\n",
      "iter  4 act 1.196e+05 pre 1.165e+05 delta 1.841e+01 f 4.740e+05 |g| 1.928e+04 CG   2\n",
      "cg reaches trust region boundary\n",
      "iter  5 act 8.896e+04 pre 7.314e+04 delta 2.511e+01 f 3.544e+05 |g| 1.879e+04 CG   2\n",
      "cg reaches trust region boundary\n",
      "iter  6 act 5.066e+04 pre 4.231e+04 delta 3.163e+01 f 2.654e+05 |g| 1.150e+04 CG   2\n",
      "cg reaches trust region boundary\n",
      "iter  7 act 2.834e+04 pre 2.470e+04 delta 3.781e+01 f 2.147e+05 |g| 7.210e+03 CG   3\n",
      "cg reaches trust region boundary\n",
      "iter  8 act 1.321e+04 pre 1.175e+04 delta 4.355e+01 f 1.864e+05 |g| 4.624e+03 CG   5\n",
      "iter  9 act 4.606e+03 pre 4.423e+03 delta 4.355e+01 f 1.732e+05 |g| 2.825e+03 CG   8\n",
      "iter 10 act 4.783e+02 pre 4.679e+02 delta 4.355e+01 f 1.686e+05 |g| 1.532e+03 CG   4\n",
      "iter 11 act 6.360e+02 pre 6.275e+02 delta 4.355e+01 f 1.681e+05 |g| 1.979e+02 CG  16\n",
      "iter 12 act 4.739e-01 pre 4.736e-01 delta 4.355e+01 f 1.675e+05 |g| 2.137e+02 CG   1\n",
      "iter 13 act 1.479e+01 pre 1.473e+01 delta 4.355e+01 f 1.675e+05 |g| 2.086e+01 CG  22\n",
      "[LibLinear][LibLinear]"
     ]
    },
    {
     "name": "stderr",
     "output_type": "stream",
     "text": [
      "[Parallel(n_jobs=6)]: Done  38 tasks      | elapsed:  5.1min\n",
      "[Parallel(n_jobs=6)]: Done 188 tasks      | elapsed: 22.8min\n",
      "[Parallel(n_jobs=6)]: Done 438 tasks      | elapsed: 52.3min\n",
      "[Parallel(n_jobs=6)]: Done 500 out of 500 | elapsed: 59.4min finished\n",
      "[Parallel(n_jobs=6)]: Using backend ThreadingBackend with 6 concurrent workers.\n",
      "[Parallel(n_jobs=6)]: Using backend ThreadingBackend with 6 concurrent workers.\n",
      "[Parallel(n_jobs=6)]: Using backend ThreadingBackend with 6 concurrent workers.\n",
      "[Parallel(n_jobs=6)]: Using backend SequentialBackend with 1 concurrent workers.\n",
      "[Parallel(n_jobs=6)]: Using backend SequentialBackend with 1 concurrent workers.\n",
      "[Parallel(n_jobs=6)]: Using backend SequentialBackend with 1 concurrent workers.\n",
      "[Parallel(n_jobs=6)]: Using backend SequentialBackend with 1 concurrent workers.\n",
      "[Parallel(n_jobs=6)]: Using backend SequentialBackend with 1 concurrent workers.\n"
     ]
    },
    {
     "name": "stdout",
     "output_type": "stream",
     "text": [
      "iter  1 act 4.674e+05 pre 4.284e+05 delta 1.742e+00 f 9.322e+05 |g| 5.411e+05 CG   1\n",
      "cg reaches trust region boundary\n",
      "iter  2 act 4.836e+04 pre 4.567e+04 delta 2.853e+00 f 4.649e+05 |g| 9.249e+04 CG   2\n",
      "cg reaches trust region boundary\n",
      "iter  3 act 3.749e+04 pre 3.728e+04 delta 1.141e+01 f 4.165e+05 |g| 1.904e+04 CG   2\n",
      "cg reaches trust region boundary\n",
      "iter  4 act 9.590e+04 pre 9.319e+04 delta 1.839e+01 f 3.790e+05 |g| 1.548e+04 CG   2\n",
      "cg reaches trust region boundary\n",
      "iter  5 act 7.126e+04 pre 5.868e+04 delta 2.514e+01 f 2.831e+05 |g| 1.488e+04 CG   2\n",
      "cg reaches trust region boundary\n",
      "iter  6 act 4.082e+04 pre 3.420e+04 delta 3.170e+01 f 2.119e+05 |g| 9.098e+03 CG   2\n",
      "cg reaches trust region boundary\n",
      "iter  7 act 2.322e+04 pre 2.040e+04 delta 3.812e+01 f 1.710e+05 |g| 5.751e+03 CG   3\n",
      "cg reaches trust region boundary\n",
      "iter  8 act 1.123e+04 pre 1.004e+04 delta 4.461e+01 f 1.478e+05 |g| 3.869e+03 CG   5\n",
      "iter  9 act 3.726e+03 pre 3.560e+03 delta 4.461e+01 f 1.366e+05 |g| 2.445e+03 CG   6\n"
     ]
    },
    {
     "name": "stderr",
     "output_type": "stream",
     "text": [
      "[Parallel(n_jobs=6)]: Done   5 out of   5 | elapsed:  2.5min finished\n"
     ]
    },
    {
     "name": "stdout",
     "output_type": "stream",
     "text": [
      "iter 10 act 4.662e+02 pre 4.613e+02 delta 4.461e+01 f 1.329e+05 |g| 1.184e+03 CG   4\n",
      "iter 11 act 5.282e+02 pre 5.200e+02 delta 4.461e+01 f 1.324e+05 |g| 1.799e+02 CG  15\n",
      "iter 12 act 1.983e+00 pre 1.982e+00 delta 4.461e+01 f 1.319e+05 |g| 1.657e+02 CG   2\n",
      "iter 13 act 1.050e+01 pre 1.048e+01 delta 4.461e+01 f 1.319e+05 |g| 1.221e+01 CG  23\n",
      "iter  1 act 4.674e+05 pre 4.284e+05 delta 1.742e+00 f 9.322e+05 |g| 5.411e+05 CG   1\n",
      "cg reaches trust region boundary\n",
      "iter  2 act 4.839e+04 pre 4.571e+04 delta 2.854e+00 f 4.649e+05 |g| 9.250e+04 CG   2\n",
      "cg reaches trust region boundary\n",
      "iter  3 act 3.754e+04 pre 3.732e+04 delta 1.142e+01 f 4.165e+05 |g| 1.905e+04 CG   2\n",
      "cg reaches trust region boundary\n",
      "iter  4 act 9.584e+04 pre 9.300e+04 delta 1.834e+01 f 3.789e+05 |g| 1.549e+04 CG   2\n",
      "cg reaches trust region boundary\n",
      "iter  5 act 7.112e+04 pre 5.875e+04 delta 2.515e+01 f 2.831e+05 |g| 1.475e+04 CG   2\n",
      "cg reaches trust region boundary\n",
      "iter  6 act 4.089e+04 pre 3.420e+04 delta 3.172e+01 f 2.120e+05 |g| 9.154e+03 CG   2\n",
      "cg reaches trust region boundary\n",
      "iter  7 act 2.336e+04 pre 2.049e+04 delta 3.865e+01 f 1.711e+05 |g| 5.765e+03 CG   3\n",
      "cg reaches trust region boundary\n",
      "iter  8 act 1.109e+04 pre 9.933e+03 delta 4.510e+01 f 1.477e+05 |g| 3.656e+03 CG   5\n",
      "iter  9 act 3.525e+03 pre 3.388e+03 delta 4.510e+01 f 1.366e+05 |g| 2.401e+03 CG   6\n",
      "iter 10 act 5.573e+02 pre 5.503e+02 delta 4.510e+01 f 1.331e+05 |g| 1.142e+03 CG   5\n",
      "iter 11 act 4.720e+02 pre 4.662e+02 delta 4.510e+01 f 1.325e+05 |g| 1.882e+02 CG  12\n",
      "iter 12 act 1.242e+01 pre 1.237e+01 delta 4.510e+01 f 1.321e+05 |g| 1.495e+02 CG   6\n",
      "iter 13 act 6.237e+00 pre 6.236e+00 delta 4.510e+01 f 1.321e+05 |g| 1.593e+01 CG  17\n",
      "iter  1 act 4.674e+05 pre 4.284e+05 delta 1.742e+00 f 9.322e+05 |g| 5.411e+05 CG   1\n",
      "cg reaches trust region boundary\n",
      "iter  2 act 4.821e+04 pre 4.553e+04 delta 2.849e+00 f 4.649e+05 |g| 9.248e+04 CG   2\n",
      "cg reaches trust region boundary\n",
      "iter  3 act 3.728e+04 pre 3.706e+04 delta 1.140e+01 f 4.166e+05 |g| 1.899e+04 CG   2\n",
      "cg reaches trust region boundary\n",
      "iter  4 act 9.568e+04 pre 9.355e+04 delta 1.845e+01 f 3.794e+05 |g| 1.539e+04 CG   2\n",
      "cg reaches trust region boundary\n",
      "iter  5 act 7.136e+04 pre 5.851e+04 delta 2.514e+01 f 2.837e+05 |g| 1.536e+04 CG   2\n",
      "cg reaches trust region boundary\n",
      "iter  6 act 4.050e+04 pre 3.380e+04 delta 3.153e+01 f 2.123e+05 |g| 9.205e+03 CG   2\n",
      "cg reaches trust region boundary\n",
      "iter  7 act 2.288e+04 pre 2.003e+04 delta 3.777e+01 f 1.718e+05 |g| 5.987e+03 CG   3\n",
      "cg reaches trust region boundary\n",
      "iter  8 act 1.108e+04 pre 9.946e+03 delta 4.438e+01 f 1.489e+05 |g| 3.918e+03 CG   5\n",
      "iter  9 act 3.690e+03 pre 3.539e+03 delta 4.438e+01 f 1.379e+05 |g| 2.440e+03 CG   6\n",
      "iter 10 act 3.901e+02 pre 3.879e+02 delta 4.438e+01 f 1.342e+05 |g| 1.223e+03 CG   3\n",
      "iter 11 act 7.047e+02 pre 6.935e+02 delta 4.438e+01 f 1.338e+05 |g| 1.794e+02 CG  16\n",
      "iter 12 act 6.473e-01 pre 6.468e-01 delta 4.438e+01 f 1.331e+05 |g| 2.247e+02 CG   1\n",
      "iter 13 act 1.421e+01 pre 1.415e+01 delta 4.438e+01 f 1.331e+05 |g| 2.016e+01 CG  21\n",
      "iter  1 act 4.674e+05 pre 4.284e+05 delta 1.742e+00 f 9.322e+05 |g| 5.411e+05 CG   1\n",
      "cg reaches trust region boundary\n",
      "iter  2 act 4.829e+04 pre 4.560e+04 delta 2.851e+00 f 4.649e+05 |g| 9.249e+04 CG   2\n",
      "cg reaches trust region boundary\n",
      "iter  3 act 3.740e+04 pre 3.718e+04 delta 1.141e+01 f 4.166e+05 |g| 1.901e+04 CG   2\n",
      "cg reaches trust region boundary\n",
      "iter  4 act 9.581e+04 pre 9.340e+04 delta 1.842e+01 f 3.792e+05 |g| 1.544e+04 CG   2\n",
      "cg reaches trust region boundary\n",
      "iter  5 act 7.131e+04 pre 5.865e+04 delta 2.515e+01 f 2.834e+05 |g| 1.510e+04 CG   2\n",
      "cg reaches trust region boundary\n",
      "iter  6 act 4.086e+04 pre 3.431e+04 delta 3.202e+01 f 2.121e+05 |g| 9.207e+03 CG   2\n",
      "cg reaches trust region boundary\n",
      "iter  7 act 2.275e+04 pre 1.985e+04 delta 3.788e+01 f 1.712e+05 |g| 5.730e+03 CG   3\n",
      "cg reaches trust region boundary\n",
      "iter  8 act 1.107e+04 pre 9.931e+03 delta 4.403e+01 f 1.485e+05 |g| 4.009e+03 CG   5\n",
      "iter  9 act 3.569e+03 pre 3.423e+03 delta 4.403e+01 f 1.374e+05 |g| 2.495e+03 CG   6\n",
      "iter 10 act 5.949e+02 pre 5.918e+02 delta 4.403e+01 f 1.338e+05 |g| 1.160e+03 CG   5\n",
      "iter 11 act 4.887e+02 pre 4.830e+02 delta 4.403e+01 f 1.332e+05 |g| 1.868e+02 CG  12\n",
      "iter 12 act 2.147e+00 pre 2.142e+00 delta 4.403e+01 f 1.327e+05 |g| 1.523e+02 CG   2\n",
      "iter 13 act 1.679e+01 pre 1.675e+01 delta 4.403e+01 f 1.327e+05 |g| 1.468e+01 CG  22\n",
      "iter  1 act 4.674e+05 pre 4.284e+05 delta 1.742e+00 f 9.322e+05 |g| 5.411e+05 CG   1\n",
      "cg reaches trust region boundary\n",
      "iter  2 act 4.825e+04 pre 4.557e+04 delta 2.850e+00 f 4.649e+05 |g| 9.248e+04 CG   2\n",
      "cg reaches trust region boundary\n",
      "iter  3 act 3.733e+04 pre 3.712e+04 delta 1.140e+01 f 4.166e+05 |g| 1.900e+04 CG   2\n",
      "cg reaches trust region boundary\n",
      "iter  4 act 9.577e+04 pre 9.334e+04 delta 1.847e+01 f 3.793e+05 |g| 1.541e+04 CG   2\n",
      "cg reaches trust region boundary\n",
      "iter  5 act 7.153e+04 pre 5.885e+04 delta 2.514e+01 f 2.835e+05 |g| 1.517e+04 CG   2\n",
      "cg reaches trust region boundary\n",
      "iter  6 act 4.068e+04 pre 3.401e+04 delta 3.168e+01 f 2.120e+05 |g| 9.437e+03 CG   2\n",
      "cg reaches trust region boundary\n",
      "iter  7 act 2.315e+04 pre 2.032e+04 delta 3.858e+01 f 1.713e+05 |g| 5.855e+03 CG   3\n",
      "cg reaches trust region boundary\n",
      "iter  8 act 1.086e+04 pre 9.712e+03 delta 4.451e+01 f 1.481e+05 |g| 3.732e+03 CG   5\n",
      "iter  9 act 3.327e+03 pre 3.203e+03 delta 4.451e+01 f 1.373e+05 |g| 2.360e+03 CG   6\n",
      "iter 10 act 5.842e+02 pre 5.789e+02 delta 4.451e+01 f 1.340e+05 |g| 1.108e+03 CG   5\n",
      "iter 11 act 4.913e+02 pre 4.844e+02 delta 4.451e+01 f 1.334e+05 |g| 1.958e+02 CG  12\n",
      "iter 12 act 1.510e+01 pre 1.502e+01 delta 4.451e+01 f 1.329e+05 |g| 1.523e+02 CG   8\n",
      "iter 13 act 4.412e+00 pre 4.413e+00 delta 4.451e+01 f 1.329e+05 |g| 1.306e+01 CG  18\n"
     ]
    },
    {
     "name": "stderr",
     "output_type": "stream",
     "text": [
      "[Parallel(n_jobs=6)]: Done   5 out of   5 | elapsed:  3.6min finished\n"
     ]
    },
    {
     "name": "stdout",
     "output_type": "stream",
     "text": [
      "[LibLinear][LibLinear][LibLinear][LibLinear][LibLinear]"
     ]
    },
    {
     "name": "stderr",
     "output_type": "stream",
     "text": [
      "[Parallel(n_jobs=6)]: Done 500 out of 500 | elapsed: 309.9min finished\n",
      "[Parallel(n_jobs=1)]: Using backend SequentialBackend with 1 concurrent workers.\n",
      "[Parallel(n_jobs=1)]: Done 500 out of 500 | elapsed:   33.5s finished\n",
      "[Parallel(n_jobs=6)]: Done 500 out of 500 | elapsed: 311.8min finished\n",
      "[Parallel(n_jobs=1)]: Using backend SequentialBackend with 1 concurrent workers.\n",
      "[Parallel(n_jobs=6)]: Done 500 out of 500 | elapsed: 312.2min finished\n",
      "[Parallel(n_jobs=1)]: Using backend SequentialBackend with 1 concurrent workers.\n",
      "[Parallel(n_jobs=1)]: Done 500 out of 500 | elapsed:   27.0s finished\n",
      "[Parallel(n_jobs=1)]: Done 500 out of 500 | elapsed:   19.7s finished\n",
      "[Parallel(n_jobs=6)]: Done 500 out of 500 | elapsed: 312.6min finished\n",
      "[Parallel(n_jobs=1)]: Using backend SequentialBackend with 1 concurrent workers.\n",
      "[Parallel(n_jobs=6)]: Done 500 out of 500 | elapsed: 312.7min finished\n",
      "[Parallel(n_jobs=1)]: Using backend SequentialBackend with 1 concurrent workers.\n",
      "[Parallel(n_jobs=1)]: Done 500 out of 500 | elapsed:   17.5s finished\n",
      "[Parallel(n_jobs=1)]: Done 500 out of 500 | elapsed:   17.6s finished\n",
      "[Parallel(n_jobs=6)]: Done   5 out of   5 | elapsed: 314.7min finished\n"
     ]
    },
    {
     "data": {
      "text/html": [
       "<style>#sk-container-id-2 {color: black;background-color: white;}#sk-container-id-2 pre{padding: 0;}#sk-container-id-2 div.sk-toggleable {background-color: white;}#sk-container-id-2 label.sk-toggleable__label {cursor: pointer;display: block;width: 100%;margin-bottom: 0;padding: 0.3em;box-sizing: border-box;text-align: center;}#sk-container-id-2 label.sk-toggleable__label-arrow:before {content: \"▸\";float: left;margin-right: 0.25em;color: #696969;}#sk-container-id-2 label.sk-toggleable__label-arrow:hover:before {color: black;}#sk-container-id-2 div.sk-estimator:hover label.sk-toggleable__label-arrow:before {color: black;}#sk-container-id-2 div.sk-toggleable__content {max-height: 0;max-width: 0;overflow: hidden;text-align: left;background-color: #f0f8ff;}#sk-container-id-2 div.sk-toggleable__content pre {margin: 0.2em;color: black;border-radius: 0.25em;background-color: #f0f8ff;}#sk-container-id-2 input.sk-toggleable__control:checked~div.sk-toggleable__content {max-height: 200px;max-width: 100%;overflow: auto;}#sk-container-id-2 input.sk-toggleable__control:checked~label.sk-toggleable__label-arrow:before {content: \"▾\";}#sk-container-id-2 div.sk-estimator input.sk-toggleable__control:checked~label.sk-toggleable__label {background-color: #d4ebff;}#sk-container-id-2 div.sk-label input.sk-toggleable__control:checked~label.sk-toggleable__label {background-color: #d4ebff;}#sk-container-id-2 input.sk-hidden--visually {border: 0;clip: rect(1px 1px 1px 1px);clip: rect(1px, 1px, 1px, 1px);height: 1px;margin: -1px;overflow: hidden;padding: 0;position: absolute;width: 1px;}#sk-container-id-2 div.sk-estimator {font-family: monospace;background-color: #f0f8ff;border: 1px dotted black;border-radius: 0.25em;box-sizing: border-box;margin-bottom: 0.5em;}#sk-container-id-2 div.sk-estimator:hover {background-color: #d4ebff;}#sk-container-id-2 div.sk-parallel-item::after {content: \"\";width: 100%;border-bottom: 1px solid gray;flex-grow: 1;}#sk-container-id-2 div.sk-label:hover label.sk-toggleable__label {background-color: #d4ebff;}#sk-container-id-2 div.sk-serial::before {content: \"\";position: absolute;border-left: 1px solid gray;box-sizing: border-box;top: 0;bottom: 0;left: 50%;z-index: 0;}#sk-container-id-2 div.sk-serial {display: flex;flex-direction: column;align-items: center;background-color: white;padding-right: 0.2em;padding-left: 0.2em;position: relative;}#sk-container-id-2 div.sk-item {position: relative;z-index: 1;}#sk-container-id-2 div.sk-parallel {display: flex;align-items: stretch;justify-content: center;background-color: white;position: relative;}#sk-container-id-2 div.sk-item::before, #sk-container-id-2 div.sk-parallel-item::before {content: \"\";position: absolute;border-left: 1px solid gray;box-sizing: border-box;top: 0;bottom: 0;left: 50%;z-index: -1;}#sk-container-id-2 div.sk-parallel-item {display: flex;flex-direction: column;z-index: 1;position: relative;background-color: white;}#sk-container-id-2 div.sk-parallel-item:first-child::after {align-self: flex-end;width: 50%;}#sk-container-id-2 div.sk-parallel-item:last-child::after {align-self: flex-start;width: 50%;}#sk-container-id-2 div.sk-parallel-item:only-child::after {width: 0;}#sk-container-id-2 div.sk-dashed-wrapped {border: 1px dashed gray;margin: 0 0.4em 0.5em 0.4em;box-sizing: border-box;padding-bottom: 0.4em;background-color: white;}#sk-container-id-2 div.sk-label label {font-family: monospace;font-weight: bold;display: inline-block;line-height: 1.2em;}#sk-container-id-2 div.sk-label-container {text-align: center;}#sk-container-id-2 div.sk-container {/* jupyter's `normalize.less` sets `[hidden] { display: none; }` but bootstrap.min.css set `[hidden] { display: none !important; }` so we also need the `!important` here to be able to override the default hidden behavior on the sphinx rendered scikit-learn.org. See: https://github.com/scikit-learn/scikit-learn/issues/21755 */display: inline-block !important;position: relative;}#sk-container-id-2 div.sk-text-repr-fallback {display: none;}</style><div id=\"sk-container-id-2\" class=\"sk-top-container\"><div class=\"sk-text-repr-fallback\"><pre>StackingClassifier(cv=5,\n",
       "                   estimators=[(&#x27;LR&#x27;,\n",
       "                                LogisticRegression(C=10.539, n_jobs=6,\n",
       "                                                   solver=&#x27;liblinear&#x27;,\n",
       "                                                   verbose=1)),\n",
       "                               (&#x27;NB&#x27;, MultinomialNB(alpha=1)),\n",
       "                               (&#x27;RF&#x27;,\n",
       "                                RandomForestClassifier(max_depth=200,\n",
       "                                                       n_estimators=500,\n",
       "                                                       n_jobs=6, verbose=1))],\n",
       "                   final_estimator=LogisticRegression(n_jobs=6), n_jobs=6,\n",
       "                   verbose=1)</pre><b>In a Jupyter environment, please rerun this cell to show the HTML representation or trust the notebook. <br />On GitHub, the HTML representation is unable to render, please try loading this page with nbviewer.org.</b></div><div class=\"sk-container\" hidden><div class=\"sk-item sk-dashed-wrapped\"><div class=\"sk-label-container\"><div class=\"sk-label sk-toggleable\"><input class=\"sk-toggleable__control sk-hidden--visually\" id=\"sk-estimator-id-6\" type=\"checkbox\" ><label for=\"sk-estimator-id-6\" class=\"sk-toggleable__label sk-toggleable__label-arrow\">StackingClassifier</label><div class=\"sk-toggleable__content\"><pre>StackingClassifier(cv=5,\n",
       "                   estimators=[(&#x27;LR&#x27;,\n",
       "                                LogisticRegression(C=10.539, n_jobs=6,\n",
       "                                                   solver=&#x27;liblinear&#x27;,\n",
       "                                                   verbose=1)),\n",
       "                               (&#x27;NB&#x27;, MultinomialNB(alpha=1)),\n",
       "                               (&#x27;RF&#x27;,\n",
       "                                RandomForestClassifier(max_depth=200,\n",
       "                                                       n_estimators=500,\n",
       "                                                       n_jobs=6, verbose=1))],\n",
       "                   final_estimator=LogisticRegression(n_jobs=6), n_jobs=6,\n",
       "                   verbose=1)</pre></div></div></div><div class=\"sk-serial\"><div class=\"sk-item\"><div class=\"sk-parallel\"><div class=\"sk-parallel-item\"><div class=\"sk-item\"><div class=\"sk-label-container\"><div class=\"sk-label sk-toggleable\"><label>LR</label></div></div><div class=\"sk-serial\"><div class=\"sk-item\"><div class=\"sk-estimator sk-toggleable\"><input class=\"sk-toggleable__control sk-hidden--visually\" id=\"sk-estimator-id-7\" type=\"checkbox\" ><label for=\"sk-estimator-id-7\" class=\"sk-toggleable__label sk-toggleable__label-arrow\">LogisticRegression</label><div class=\"sk-toggleable__content\"><pre>LogisticRegression(C=10.539, n_jobs=6, solver=&#x27;liblinear&#x27;, verbose=1)</pre></div></div></div></div></div></div><div class=\"sk-parallel-item\"><div class=\"sk-item\"><div class=\"sk-label-container\"><div class=\"sk-label sk-toggleable\"><label>NB</label></div></div><div class=\"sk-serial\"><div class=\"sk-item\"><div class=\"sk-estimator sk-toggleable\"><input class=\"sk-toggleable__control sk-hidden--visually\" id=\"sk-estimator-id-8\" type=\"checkbox\" ><label for=\"sk-estimator-id-8\" class=\"sk-toggleable__label sk-toggleable__label-arrow\">MultinomialNB</label><div class=\"sk-toggleable__content\"><pre>MultinomialNB(alpha=1)</pre></div></div></div></div></div></div><div class=\"sk-parallel-item\"><div class=\"sk-item\"><div class=\"sk-label-container\"><div class=\"sk-label sk-toggleable\"><label>RF</label></div></div><div class=\"sk-serial\"><div class=\"sk-item\"><div class=\"sk-estimator sk-toggleable\"><input class=\"sk-toggleable__control sk-hidden--visually\" id=\"sk-estimator-id-9\" type=\"checkbox\" ><label for=\"sk-estimator-id-9\" class=\"sk-toggleable__label sk-toggleable__label-arrow\">RandomForestClassifier</label><div class=\"sk-toggleable__content\"><pre>RandomForestClassifier(max_depth=200, n_estimators=500, n_jobs=6, verbose=1)</pre></div></div></div></div></div></div></div></div><div class=\"sk-item\"><div class=\"sk-parallel\"><div class=\"sk-parallel-item\"><div class=\"sk-item\"><div class=\"sk-label-container\"><div class=\"sk-label sk-toggleable\"><label>final_estimator</label></div></div><div class=\"sk-serial\"><div class=\"sk-item\"><div class=\"sk-estimator sk-toggleable\"><input class=\"sk-toggleable__control sk-hidden--visually\" id=\"sk-estimator-id-10\" type=\"checkbox\" ><label for=\"sk-estimator-id-10\" class=\"sk-toggleable__label sk-toggleable__label-arrow\">LogisticRegression</label><div class=\"sk-toggleable__content\"><pre>LogisticRegression(n_jobs=6)</pre></div></div></div></div></div></div></div></div></div></div></div></div>"
      ],
      "text/plain": [
       "StackingClassifier(cv=5,\n",
       "                   estimators=[('LR',\n",
       "                                LogisticRegression(C=10.539, n_jobs=6,\n",
       "                                                   solver='liblinear',\n",
       "                                                   verbose=1)),\n",
       "                               ('NB', MultinomialNB(alpha=1)),\n",
       "                               ('RF',\n",
       "                                RandomForestClassifier(max_depth=200,\n",
       "                                                       n_estimators=500,\n",
       "                                                       n_jobs=6, verbose=1))],\n",
       "                   final_estimator=LogisticRegression(n_jobs=6), n_jobs=6,\n",
       "                   verbose=1)"
      ]
     },
     "execution_count": 17,
     "metadata": {},
     "output_type": "execute_result"
    }
   ],
   "source": [
    "LR = LogisticRegression(C=10.539, solver='liblinear', verbose=1, n_jobs=6)\n",
    "NB = naive_bayes.MultinomialNB(alpha=1, fit_prior=True)\n",
    "RF = RandomForestClassifier(max_depth=200, max_features='sqrt', n_estimators=500, verbose=1, n_jobs=6)\n",
    "\n",
    "estimator_list2=[('LR', LR), ('NB', NB), ('RF', RF)]\n",
    "\n",
    "clf2 = StackingClassifier(estimators=estimator_list2, final_estimator=LogisticRegression(n_jobs=6),\n",
    "                        verbose=1, n_jobs=6, cv=5)\n",
    "clf2.fit(X_train_vec, y_train)"
   ]
  },
  {
   "cell_type": "code",
   "execution_count": null,
   "id": "2ab0da35",
   "metadata": {},
   "outputs": [],
   "source": [
    "y_pred2 = clf2.predict(X_test_vec)\n",
    "\n",
    "print(classification_report(y_test, y_pred2))"
   ]
  },
  {
   "cell_type": "markdown",
   "id": "9f8b4589",
   "metadata": {},
   "source": [
    "## LR, NB, LGBM"
   ]
  },
  {
   "cell_type": "code",
   "execution_count": 14,
   "id": "7c60e540",
   "metadata": {
    "scrolled": true
   },
   "outputs": [
    {
     "name": "stderr",
     "output_type": "stream",
     "text": [
      "/Users/zori/opt/anaconda3/lib/python3.9/site-packages/sklearn/linear_model/_logistic.py:1153: UserWarning: 'n_jobs' > 1 does not have any effect when 'solver' is set to 'liblinear'. Got 'n_jobs' = 6.\n",
      "  warnings.warn(\n"
     ]
    },
    {
     "name": "stdout",
     "output_type": "stream",
     "text": [
      "iter  1 act 5.842e+05 pre 5.354e+05 delta 1.742e+00 f 1.165e+06 |g| 6.764e+05 CG   1\n",
      "cg reaches trust region boundary\n",
      "iter  2 act 6.036e+04 pre 5.700e+04 delta 2.851e+00 f 5.811e+05 |g| 1.156e+05 CG   2\n",
      "cg reaches trust region boundary\n",
      "iter  3 act 4.672e+04 pre 4.646e+04 delta 1.140e+01 f 5.207e+05 |g| 2.377e+04 CG   2\n",
      "cg reaches trust region boundary\n",
      "iter  4 act 1.196e+05 pre 1.165e+05 delta 1.841e+01 f 4.740e+05 |g| 1.928e+04 CG   2\n",
      "cg reaches trust region boundary\n",
      "iter  5 act 8.896e+04 pre 7.314e+04 delta 2.511e+01 f 3.544e+05 |g| 1.879e+04 CG   2\n",
      "cg reaches trust region boundary\n",
      "iter  6 act 5.066e+04 pre 4.231e+04 delta 3.163e+01 f 2.654e+05 |g| 1.150e+04 CG   2\n",
      "cg reaches trust region boundary\n",
      "iter  7 act 2.834e+04 pre 2.470e+04 delta 3.781e+01 f 2.147e+05 |g| 7.210e+03 CG   3\n",
      "cg reaches trust region boundary\n",
      "iter  8 act 1.321e+04 pre 1.175e+04 delta 4.355e+01 f 1.864e+05 |g| 4.624e+03 CG   5\n",
      "iter  9 act 4.606e+03 pre 4.423e+03 delta 4.355e+01 f 1.732e+05 |g| 2.825e+03 CG   8\n",
      "iter 10 act 4.783e+02 pre 4.679e+02 delta 4.355e+01 f 1.686e+05 |g| 1.532e+03 CG   4\n",
      "iter 11 act 6.360e+02 pre 6.275e+02 delta 4.355e+01 f 1.681e+05 |g| 1.979e+02 CG  16\n",
      "iter 12 act 4.739e-01 pre 4.736e-01 delta 4.355e+01 f 1.675e+05 |g| 2.137e+02 CG   1\n",
      "iter 13 act 1.479e+01 pre 1.473e+01 delta 4.355e+01 f 1.675e+05 |g| 2.086e+01 CG  22\n"
     ]
    },
    {
     "name": "stderr",
     "output_type": "stream",
     "text": [
      "[Parallel(n_jobs=6)]: Using backend ThreadingBackend with 6 concurrent workers.\n",
      "[Parallel(n_jobs=6)]: Using backend ThreadingBackend with 6 concurrent workers.\n",
      "[Parallel(n_jobs=6)]: Using backend ThreadingBackend with 6 concurrent workers.\n"
     ]
    },
    {
     "name": "stdout",
     "output_type": "stream",
     "text": [
      "iter  1 act 4.674e+05 pre 4.284e+05 delta 1.742e+00 f 9.322e+05 |g| 5.411e+05 CG   1\n",
      "cg reaches trust region boundary\n",
      "iter  2 act 4.825e+04 pre 4.557e+04 delta 2.850e+00 f 4.649e+05 |g| 9.248e+04 CG   2\n",
      "cg reaches trust region boundary\n",
      "iter  3 act 3.733e+04 pre 3.712e+04 delta 1.140e+01 f 4.166e+05 |g| 1.900e+04 CG   2\n",
      "cg reaches trust region boundary\n",
      "iter  4 act 9.577e+04 pre 9.334e+04 delta 1.847e+01 f 3.793e+05 |g| 1.541e+04 CG   2\n",
      "cg reaches trust region boundary\n",
      "iter  5 act 7.153e+04 pre 5.885e+04 delta 2.514e+01 f 2.835e+05 |g| 1.517e+04 CG   2\n",
      "cg reaches trust region boundary\n",
      "iter  6 act 4.068e+04 pre 3.401e+04 delta 3.168e+01 f 2.120e+05 |g| 9.437e+03 CG   2\n",
      "cg reaches trust region boundary\n",
      "iter  7 act 2.315e+04 pre 2.032e+04 delta 3.858e+01 f 1.713e+05 |g| 5.855e+03 CG   3\n",
      "cg reaches trust region boundary\n",
      "iter  8 act 1.086e+04 pre 9.712e+03 delta 4.451e+01 f 1.481e+05 |g| 3.732e+03 CG   5\n"
     ]
    },
    {
     "name": "stderr",
     "output_type": "stream",
     "text": [
      "[Parallel(n_jobs=6)]: Done   5 out of   5 | elapsed:  2.8min finished\n"
     ]
    },
    {
     "name": "stdout",
     "output_type": "stream",
     "text": [
      "iter  9 act 3.327e+03 pre 3.203e+03 delta 4.451e+01 f 1.373e+05 |g| 2.360e+03 CG   6\n",
      "iter 10 act 5.842e+02 pre 5.789e+02 delta 4.451e+01 f 1.340e+05 |g| 1.108e+03 CG   5\n",
      "iter 11 act 4.913e+02 pre 4.844e+02 delta 4.451e+01 f 1.334e+05 |g| 1.958e+02 CG  12\n",
      "iter 12 act 1.510e+01 pre 1.502e+01 delta 4.451e+01 f 1.329e+05 |g| 1.523e+02 CG   8\n",
      "iter 13 act 4.412e+00 pre 4.413e+00 delta 4.451e+01 f 1.329e+05 |g| 1.306e+01 CG  18\n",
      "iter  1 act 4.674e+05 pre 4.284e+05 delta 1.742e+00 f 9.322e+05 |g| 5.411e+05 CG   1\n",
      "cg reaches trust region boundary\n",
      "iter  2 act 4.839e+04 pre 4.571e+04 delta 2.854e+00 f 4.649e+05 |g| 9.250e+04 CG   2\n",
      "cg reaches trust region boundary\n",
      "iter  3 act 3.754e+04 pre 3.732e+04 delta 1.142e+01 f 4.165e+05 |g| 1.905e+04 CG   2\n",
      "cg reaches trust region boundary\n",
      "iter  4 act 9.584e+04 pre 9.300e+04 delta 1.834e+01 f 3.789e+05 |g| 1.549e+04 CG   2\n",
      "cg reaches trust region boundary\n",
      "iter  5 act 7.112e+04 pre 5.875e+04 delta 2.515e+01 f 2.831e+05 |g| 1.475e+04 CG   2\n",
      "cg reaches trust region boundary\n",
      "iter  6 act 4.089e+04 pre 3.420e+04 delta 3.172e+01 f 2.120e+05 |g| 9.154e+03 CG   2\n",
      "cg reaches trust region boundary\n",
      "iter  7 act 2.336e+04 pre 2.049e+04 delta 3.865e+01 f 1.711e+05 |g| 5.765e+03 CG   3\n",
      "cg reaches trust region boundary\n",
      "iter  8 act 1.109e+04 pre 9.933e+03 delta 4.510e+01 f 1.477e+05 |g| 3.656e+03 CG   5\n",
      "iter  9 act 3.525e+03 pre 3.388e+03 delta 4.510e+01 f 1.366e+05 |g| 2.401e+03 CG   6\n",
      "iter 10 act 5.573e+02 pre 5.503e+02 delta 4.510e+01 f 1.331e+05 |g| 1.142e+03 CG   5\n",
      "iter 11 act 4.720e+02 pre 4.662e+02 delta 4.510e+01 f 1.325e+05 |g| 1.882e+02 CG  12\n",
      "iter 12 act 1.242e+01 pre 1.237e+01 delta 4.510e+01 f 1.321e+05 |g| 1.495e+02 CG   6\n",
      "iter 13 act 6.237e+00 pre 6.236e+00 delta 4.510e+01 f 1.321e+05 |g| 1.593e+01 CG  17\n",
      "iter  1 act 4.674e+05 pre 4.284e+05 delta 1.742e+00 f 9.322e+05 |g| 5.411e+05 CG   1\n",
      "cg reaches trust region boundary\n",
      "iter  2 act 4.821e+04 pre 4.553e+04 delta 2.849e+00 f 4.649e+05 |g| 9.248e+04 CG   2\n",
      "cg reaches trust region boundary\n",
      "iter  3 act 3.728e+04 pre 3.706e+04 delta 1.140e+01 f 4.166e+05 |g| 1.899e+04 CG   2\n",
      "cg reaches trust region boundary\n",
      "iter  4 act 9.568e+04 pre 9.355e+04 delta 1.845e+01 f 3.794e+05 |g| 1.539e+04 CG   2\n",
      "cg reaches trust region boundary\n",
      "iter  5 act 7.136e+04 pre 5.851e+04 delta 2.514e+01 f 2.837e+05 |g| 1.536e+04 CG   2\n",
      "cg reaches trust region boundary\n",
      "iter  6 act 4.050e+04 pre 3.380e+04 delta 3.153e+01 f 2.123e+05 |g| 9.205e+03 CG   2\n",
      "cg reaches trust region boundary\n",
      "iter  7 act 2.288e+04 pre 2.003e+04 delta 3.777e+01 f 1.718e+05 |g| 5.987e+03 CG   3\n",
      "cg reaches trust region boundary\n",
      "iter  8 act 1.108e+04 pre 9.946e+03 delta 4.438e+01 f 1.489e+05 |g| 3.918e+03 CG   5\n",
      "iter  9 act 3.690e+03 pre 3.539e+03 delta 4.438e+01 f 1.379e+05 |g| 2.440e+03 CG   6\n",
      "iter 10 act 3.901e+02 pre 3.879e+02 delta 4.438e+01 f 1.342e+05 |g| 1.223e+03 CG   3\n",
      "iter 11 act 7.047e+02 pre 6.935e+02 delta 4.438e+01 f 1.338e+05 |g| 1.794e+02 CG  16\n",
      "iter 12 act 6.473e-01 pre 6.468e-01 delta 4.438e+01 f 1.331e+05 |g| 2.247e+02 CG   1\n",
      "iter 13 act 1.421e+01 pre 1.415e+01 delta 4.438e+01 f 1.331e+05 |g| 2.016e+01 CG  21\n",
      "iter  1 act 4.674e+05 pre 4.284e+05 delta 1.742e+00 f 9.322e+05 |g| 5.411e+05 CG   1\n",
      "cg reaches trust region boundary\n",
      "iter  2 act 4.836e+04 pre 4.567e+04 delta 2.853e+00 f 4.649e+05 |g| 9.249e+04 CG   2\n",
      "cg reaches trust region boundary\n",
      "iter  3 act 3.749e+04 pre 3.728e+04 delta 1.141e+01 f 4.165e+05 |g| 1.904e+04 CG   2\n",
      "cg reaches trust region boundary\n",
      "iter  4 act 9.590e+04 pre 9.319e+04 delta 1.839e+01 f 3.790e+05 |g| 1.548e+04 CG   2\n",
      "cg reaches trust region boundary\n",
      "iter  5 act 7.126e+04 pre 5.868e+04 delta 2.514e+01 f 2.831e+05 |g| 1.488e+04 CG   2\n",
      "cg reaches trust region boundary\n",
      "iter  6 act 4.082e+04 pre 3.420e+04 delta 3.170e+01 f 2.119e+05 |g| 9.098e+03 CG   2\n",
      "cg reaches trust region boundary\n",
      "iter  7 act 2.322e+04 pre 2.040e+04 delta 3.812e+01 f 1.710e+05 |g| 5.751e+03 CG   3\n",
      "cg reaches trust region boundary\n",
      "iter  8 act 1.123e+04 pre 1.004e+04 delta 4.461e+01 f 1.478e+05 |g| 3.869e+03 CG   5\n",
      "iter  9 act 3.726e+03 pre 3.560e+03 delta 4.461e+01 f 1.366e+05 |g| 2.445e+03 CG   6\n",
      "iter 10 act 4.662e+02 pre 4.613e+02 delta 4.461e+01 f 1.329e+05 |g| 1.184e+03 CG   4\n",
      "iter 11 act 5.282e+02 pre 5.200e+02 delta 4.461e+01 f 1.324e+05 |g| 1.799e+02 CG  15\n",
      "iter 12 act 1.983e+00 pre 1.982e+00 delta 4.461e+01 f 1.319e+05 |g| 1.657e+02 CG   2\n",
      "iter 13 act 1.050e+01 pre 1.048e+01 delta 4.461e+01 f 1.319e+05 |g| 1.221e+01 CG  23\n",
      "iter  1 act 4.674e+05 pre 4.284e+05 delta 1.742e+00 f 9.322e+05 |g| 5.411e+05 CG   1\n",
      "cg reaches trust region boundary\n",
      "iter  2 act 4.829e+04 pre 4.560e+04 delta 2.851e+00 f 4.649e+05 |g| 9.249e+04 CG   2\n",
      "cg reaches trust region boundary\n",
      "iter  3 act 3.740e+04 pre 3.718e+04 delta 1.141e+01 f 4.166e+05 |g| 1.901e+04 CG   2\n",
      "cg reaches trust region boundary\n",
      "iter  4 act 9.581e+04 pre 9.340e+04 delta 1.842e+01 f 3.792e+05 |g| 1.544e+04 CG   2\n",
      "cg reaches trust region boundary\n",
      "iter  5 act 7.131e+04 pre 5.865e+04 delta 2.515e+01 f 2.834e+05 |g| 1.510e+04 CG   2\n",
      "cg reaches trust region boundary\n",
      "iter  6 act 4.086e+04 pre 3.431e+04 delta 3.202e+01 f 2.121e+05 |g| 9.207e+03 CG   2\n",
      "cg reaches trust region boundary\n",
      "iter  7 act 2.275e+04 pre 1.985e+04 delta 3.788e+01 f 1.712e+05 |g| 5.730e+03 CG   3\n",
      "cg reaches trust region boundary\n",
      "iter  8 act 1.107e+04 pre 9.931e+03 delta 4.403e+01 f 1.485e+05 |g| 4.009e+03 CG   5\n",
      "iter  9 act 3.569e+03 pre 3.423e+03 delta 4.403e+01 f 1.374e+05 |g| 2.495e+03 CG   6\n",
      "iter 10 act 5.949e+02 pre 5.918e+02 delta 4.403e+01 f 1.338e+05 |g| 1.160e+03 CG   5\n",
      "iter 11 act 4.887e+02 pre 4.830e+02 delta 4.403e+01 f 1.332e+05 |g| 1.868e+02 CG  12\n",
      "iter 12 act 2.147e+00 pre 2.142e+00 delta 4.403e+01 f 1.327e+05 |g| 1.523e+02 CG   2\n",
      "iter 13 act 1.679e+01 pre 1.675e+01 delta 4.403e+01 f 1.327e+05 |g| 1.468e+01 CG  22\n"
     ]
    },
    {
     "name": "stderr",
     "output_type": "stream",
     "text": [
      "[Parallel(n_jobs=6)]: Done   5 out of   5 | elapsed:  3.7min finished\n"
     ]
    },
    {
     "name": "stdout",
     "output_type": "stream",
     "text": [
      "[LibLinear][LibLinear][LibLinear][LibLinear][LibLinear]"
     ]
    },
    {
     "name": "stderr",
     "output_type": "stream",
     "text": [
      "[Parallel(n_jobs=6)]: Done   5 out of   5 | elapsed:  9.9min finished\n"
     ]
    },
    {
     "data": {
      "text/html": [
       "<style>#sk-container-id-1 {color: black;background-color: white;}#sk-container-id-1 pre{padding: 0;}#sk-container-id-1 div.sk-toggleable {background-color: white;}#sk-container-id-1 label.sk-toggleable__label {cursor: pointer;display: block;width: 100%;margin-bottom: 0;padding: 0.3em;box-sizing: border-box;text-align: center;}#sk-container-id-1 label.sk-toggleable__label-arrow:before {content: \"▸\";float: left;margin-right: 0.25em;color: #696969;}#sk-container-id-1 label.sk-toggleable__label-arrow:hover:before {color: black;}#sk-container-id-1 div.sk-estimator:hover label.sk-toggleable__label-arrow:before {color: black;}#sk-container-id-1 div.sk-toggleable__content {max-height: 0;max-width: 0;overflow: hidden;text-align: left;background-color: #f0f8ff;}#sk-container-id-1 div.sk-toggleable__content pre {margin: 0.2em;color: black;border-radius: 0.25em;background-color: #f0f8ff;}#sk-container-id-1 input.sk-toggleable__control:checked~div.sk-toggleable__content {max-height: 200px;max-width: 100%;overflow: auto;}#sk-container-id-1 input.sk-toggleable__control:checked~label.sk-toggleable__label-arrow:before {content: \"▾\";}#sk-container-id-1 div.sk-estimator input.sk-toggleable__control:checked~label.sk-toggleable__label {background-color: #d4ebff;}#sk-container-id-1 div.sk-label input.sk-toggleable__control:checked~label.sk-toggleable__label {background-color: #d4ebff;}#sk-container-id-1 input.sk-hidden--visually {border: 0;clip: rect(1px 1px 1px 1px);clip: rect(1px, 1px, 1px, 1px);height: 1px;margin: -1px;overflow: hidden;padding: 0;position: absolute;width: 1px;}#sk-container-id-1 div.sk-estimator {font-family: monospace;background-color: #f0f8ff;border: 1px dotted black;border-radius: 0.25em;box-sizing: border-box;margin-bottom: 0.5em;}#sk-container-id-1 div.sk-estimator:hover {background-color: #d4ebff;}#sk-container-id-1 div.sk-parallel-item::after {content: \"\";width: 100%;border-bottom: 1px solid gray;flex-grow: 1;}#sk-container-id-1 div.sk-label:hover label.sk-toggleable__label {background-color: #d4ebff;}#sk-container-id-1 div.sk-serial::before {content: \"\";position: absolute;border-left: 1px solid gray;box-sizing: border-box;top: 0;bottom: 0;left: 50%;z-index: 0;}#sk-container-id-1 div.sk-serial {display: flex;flex-direction: column;align-items: center;background-color: white;padding-right: 0.2em;padding-left: 0.2em;position: relative;}#sk-container-id-1 div.sk-item {position: relative;z-index: 1;}#sk-container-id-1 div.sk-parallel {display: flex;align-items: stretch;justify-content: center;background-color: white;position: relative;}#sk-container-id-1 div.sk-item::before, #sk-container-id-1 div.sk-parallel-item::before {content: \"\";position: absolute;border-left: 1px solid gray;box-sizing: border-box;top: 0;bottom: 0;left: 50%;z-index: -1;}#sk-container-id-1 div.sk-parallel-item {display: flex;flex-direction: column;z-index: 1;position: relative;background-color: white;}#sk-container-id-1 div.sk-parallel-item:first-child::after {align-self: flex-end;width: 50%;}#sk-container-id-1 div.sk-parallel-item:last-child::after {align-self: flex-start;width: 50%;}#sk-container-id-1 div.sk-parallel-item:only-child::after {width: 0;}#sk-container-id-1 div.sk-dashed-wrapped {border: 1px dashed gray;margin: 0 0.4em 0.5em 0.4em;box-sizing: border-box;padding-bottom: 0.4em;background-color: white;}#sk-container-id-1 div.sk-label label {font-family: monospace;font-weight: bold;display: inline-block;line-height: 1.2em;}#sk-container-id-1 div.sk-label-container {text-align: center;}#sk-container-id-1 div.sk-container {/* jupyter's `normalize.less` sets `[hidden] { display: none; }` but bootstrap.min.css set `[hidden] { display: none !important; }` so we also need the `!important` here to be able to override the default hidden behavior on the sphinx rendered scikit-learn.org. See: https://github.com/scikit-learn/scikit-learn/issues/21755 */display: inline-block !important;position: relative;}#sk-container-id-1 div.sk-text-repr-fallback {display: none;}</style><div id=\"sk-container-id-1\" class=\"sk-top-container\"><div class=\"sk-text-repr-fallback\"><pre>StackingClassifier(cv=5,\n",
       "                   estimators=[(&#x27;LR&#x27;,\n",
       "                                LogisticRegression(C=10.539, n_jobs=6,\n",
       "                                                   solver=&#x27;liblinear&#x27;,\n",
       "                                                   verbose=1)),\n",
       "                               (&#x27;NB&#x27;, MultinomialNB(alpha=1)),\n",
       "                               (&#x27;LGBM&#x27;,\n",
       "                                LGBMClassifier(learning_rate=0.0938,\n",
       "                                               max_depth=4, n_estimators=4031,\n",
       "                                               n_jobs=6, num_leaves=4000))],\n",
       "                   final_estimator=LogisticRegression(n_jobs=6), n_jobs=6,\n",
       "                   verbose=1)</pre><b>In a Jupyter environment, please rerun this cell to show the HTML representation or trust the notebook. <br />On GitHub, the HTML representation is unable to render, please try loading this page with nbviewer.org.</b></div><div class=\"sk-container\" hidden><div class=\"sk-item sk-dashed-wrapped\"><div class=\"sk-label-container\"><div class=\"sk-label sk-toggleable\"><input class=\"sk-toggleable__control sk-hidden--visually\" id=\"sk-estimator-id-1\" type=\"checkbox\" ><label for=\"sk-estimator-id-1\" class=\"sk-toggleable__label sk-toggleable__label-arrow\">StackingClassifier</label><div class=\"sk-toggleable__content\"><pre>StackingClassifier(cv=5,\n",
       "                   estimators=[(&#x27;LR&#x27;,\n",
       "                                LogisticRegression(C=10.539, n_jobs=6,\n",
       "                                                   solver=&#x27;liblinear&#x27;,\n",
       "                                                   verbose=1)),\n",
       "                               (&#x27;NB&#x27;, MultinomialNB(alpha=1)),\n",
       "                               (&#x27;LGBM&#x27;,\n",
       "                                LGBMClassifier(learning_rate=0.0938,\n",
       "                                               max_depth=4, n_estimators=4031,\n",
       "                                               n_jobs=6, num_leaves=4000))],\n",
       "                   final_estimator=LogisticRegression(n_jobs=6), n_jobs=6,\n",
       "                   verbose=1)</pre></div></div></div><div class=\"sk-serial\"><div class=\"sk-item\"><div class=\"sk-parallel\"><div class=\"sk-parallel-item\"><div class=\"sk-item\"><div class=\"sk-label-container\"><div class=\"sk-label sk-toggleable\"><label>LR</label></div></div><div class=\"sk-serial\"><div class=\"sk-item\"><div class=\"sk-estimator sk-toggleable\"><input class=\"sk-toggleable__control sk-hidden--visually\" id=\"sk-estimator-id-2\" type=\"checkbox\" ><label for=\"sk-estimator-id-2\" class=\"sk-toggleable__label sk-toggleable__label-arrow\">LogisticRegression</label><div class=\"sk-toggleable__content\"><pre>LogisticRegression(C=10.539, n_jobs=6, solver=&#x27;liblinear&#x27;, verbose=1)</pre></div></div></div></div></div></div><div class=\"sk-parallel-item\"><div class=\"sk-item\"><div class=\"sk-label-container\"><div class=\"sk-label sk-toggleable\"><label>NB</label></div></div><div class=\"sk-serial\"><div class=\"sk-item\"><div class=\"sk-estimator sk-toggleable\"><input class=\"sk-toggleable__control sk-hidden--visually\" id=\"sk-estimator-id-3\" type=\"checkbox\" ><label for=\"sk-estimator-id-3\" class=\"sk-toggleable__label sk-toggleable__label-arrow\">MultinomialNB</label><div class=\"sk-toggleable__content\"><pre>MultinomialNB(alpha=1)</pre></div></div></div></div></div></div><div class=\"sk-parallel-item\"><div class=\"sk-item\"><div class=\"sk-label-container\"><div class=\"sk-label sk-toggleable\"><label>LGBM</label></div></div><div class=\"sk-serial\"><div class=\"sk-item\"><div class=\"sk-estimator sk-toggleable\"><input class=\"sk-toggleable__control sk-hidden--visually\" id=\"sk-estimator-id-4\" type=\"checkbox\" ><label for=\"sk-estimator-id-4\" class=\"sk-toggleable__label sk-toggleable__label-arrow\">LGBMClassifier</label><div class=\"sk-toggleable__content\"><pre>LGBMClassifier(learning_rate=0.0938, max_depth=4, n_estimators=4031, n_jobs=6,\n",
       "               num_leaves=4000)</pre></div></div></div></div></div></div></div></div><div class=\"sk-item\"><div class=\"sk-parallel\"><div class=\"sk-parallel-item\"><div class=\"sk-item\"><div class=\"sk-label-container\"><div class=\"sk-label sk-toggleable\"><label>final_estimator</label></div></div><div class=\"sk-serial\"><div class=\"sk-item\"><div class=\"sk-estimator sk-toggleable\"><input class=\"sk-toggleable__control sk-hidden--visually\" id=\"sk-estimator-id-5\" type=\"checkbox\" ><label for=\"sk-estimator-id-5\" class=\"sk-toggleable__label sk-toggleable__label-arrow\">LogisticRegression</label><div class=\"sk-toggleable__content\"><pre>LogisticRegression(n_jobs=6)</pre></div></div></div></div></div></div></div></div></div></div></div></div>"
      ],
      "text/plain": [
       "StackingClassifier(cv=5,\n",
       "                   estimators=[('LR',\n",
       "                                LogisticRegression(C=10.539, n_jobs=6,\n",
       "                                                   solver='liblinear',\n",
       "                                                   verbose=1)),\n",
       "                               ('NB', MultinomialNB(alpha=1)),\n",
       "                               ('LGBM',\n",
       "                                LGBMClassifier(learning_rate=0.0938,\n",
       "                                               max_depth=4, n_estimators=4031,\n",
       "                                               n_jobs=6, num_leaves=4000))],\n",
       "                   final_estimator=LogisticRegression(n_jobs=6), n_jobs=6,\n",
       "                   verbose=1)"
      ]
     },
     "execution_count": 14,
     "metadata": {},
     "output_type": "execute_result"
    }
   ],
   "source": [
    "LR = LogisticRegression(C=10.539, solver='liblinear', verbose=1, n_jobs=6)\n",
    "NB = naive_bayes.MultinomialNB(alpha=1, fit_prior=True)\n",
    "# RF = RandomForestClassifier(max_depth=200, max_features='sqrt', n_estimators=500, verbose=1, n_jobs=6)\n",
    "LGBM = LGBMClassifier(learning_rate= 0.0938, max_depth= 4, n_estimators= 4031, num_leaves= 4000, n_jobs=6)\n",
    "# XGB = XGBClassifier(objective='binary:logistic', seed=12, use_label_encoder=False, verbose=1, n_jobs=6)\n",
    "\n",
    "estimator_list3=[('LR', LR), ('NB', NB), ('LGBM', LGBM)]\n",
    "\n",
    "clf3 = StackingClassifier(estimators=estimator_list3,\n",
    "                        final_estimator=LogisticRegression(n_jobs=6),\n",
    "                        verbose=1, n_jobs=6, cv=5)\n",
    "\n",
    "clf3.fit(X_train_vec, y_train)"
   ]
  },
  {
   "cell_type": "code",
   "execution_count": 16,
   "id": "c7a4ef83",
   "metadata": {},
   "outputs": [
    {
     "name": "stdout",
     "output_type": "stream",
     "text": [
      "              precision    recall  f1-score   support\n",
      "\n",
      "           0       0.98      0.94      0.96     57298\n",
      "           1       0.58      0.81      0.68      6243\n",
      "\n",
      "    accuracy                           0.92     63541\n",
      "   macro avg       0.78      0.87      0.82     63541\n",
      "weighted avg       0.94      0.92      0.93     63541\n",
      "\n"
     ]
    }
   ],
   "source": [
    "y_pred3 = clf3.predict(X_test_vec)\n",
    "\n",
    "print(classification_report(y_test, y_pred3))"
   ]
  },
  {
   "cell_type": "code",
   "execution_count": null,
   "id": "52a68a19",
   "metadata": {},
   "outputs": [],
   "source": []
  },
  {
   "cell_type": "code",
   "execution_count": null,
   "id": "67772dec",
   "metadata": {},
   "outputs": [
    {
     "name": "stderr",
     "output_type": "stream",
     "text": [
      "/Users/zori/opt/anaconda3/lib/python3.9/site-packages/xgboost/compat.py:36: FutureWarning: pandas.Int64Index is deprecated and will be removed from pandas in a future version. Use pandas.Index with the appropriate dtype instead.\n",
      "  from pandas import MultiIndex, Int64Index\n",
      "/Users/zori/opt/anaconda3/lib/python3.9/site-packages/sklearn/linear_model/_logistic.py:1153: UserWarning: 'n_jobs' > 1 does not have any effect when 'solver' is set to 'liblinear'. Got 'n_jobs' = 6.\n",
      "  warnings.warn(\n"
     ]
    },
    {
     "name": "stdout",
     "output_type": "stream",
     "text": [
      "iter  1 act 5.842e+05 pre 5.354e+05 delta 1.742e+00 f 1.165e+06 |g| 6.764e+05 CG   1\n",
      "cg reaches trust region boundary\n",
      "iter  2 act 6.036e+04 pre 5.700e+04 delta 2.851e+00 f 5.811e+05 |g| 1.156e+05 CG   2\n",
      "cg reaches trust region boundary\n",
      "iter  3 act 4.672e+04 pre 4.646e+04 delta 1.140e+01 f 5.207e+05 |g| 2.377e+04 CG   2\n",
      "cg reaches trust region boundary\n",
      "iter  4 act 1.196e+05 pre 1.165e+05 delta 1.841e+01 f 4.740e+05 |g| 1.928e+04 CG   2\n",
      "cg reaches trust region boundary\n",
      "iter  5 act 8.896e+04 pre 7.314e+04 delta 2.511e+01 f 3.544e+05 |g| 1.879e+04 CG   2\n",
      "cg reaches trust region boundary\n",
      "iter  6 act 5.066e+04 pre 4.231e+04 delta 3.163e+01 f 2.654e+05 |g| 1.150e+04 CG   2\n",
      "cg reaches trust region boundary\n",
      "iter  7 act 2.834e+04 pre 2.470e+04 delta 3.781e+01 f 2.147e+05 |g| 7.210e+03 CG   3\n",
      "cg reaches trust region boundary\n",
      "iter  8 act 1.321e+04 pre 1.175e+04 delta 4.355e+01 f 1.864e+05 |g| 4.624e+03 CG   5\n",
      "iter  9 act 4.606e+03 pre 4.423e+03 delta 4.355e+01 f 1.732e+05 |g| 2.825e+03 CG   8\n",
      "iter 10 act 4.783e+02 pre 4.679e+02 delta 4.355e+01 f 1.686e+05 |g| 1.532e+03 CG   4\n",
      "iter 11 act 6.360e+02 pre 6.275e+02 delta 4.355e+01 f 1.681e+05 |g| 1.979e+02 CG  16\n",
      "iter 12 act 4.739e-01 pre 4.736e-01 delta 4.355e+01 f 1.675e+05 |g| 2.137e+02 CG   1\n",
      "iter 13 act 1.479e+01 pre 1.473e+01 delta 4.355e+01 f 1.675e+05 |g| 2.086e+01 CG  22\n",
      "[LibLinear]"
     ]
    },
    {
     "name": "stderr",
     "output_type": "stream",
     "text": [
      "[Parallel(n_jobs=6)]: Using backend ThreadingBackend with 6 concurrent workers.\n",
      "[Parallel(n_jobs=6)]: Using backend ThreadingBackend with 6 concurrent workers.\n",
      "/Users/zori/opt/anaconda3/lib/python3.9/site-packages/xgboost/compat.py:36: FutureWarning: pandas.Int64Index is deprecated and will be removed from pandas in a future version. Use pandas.Index with the appropriate dtype instead.\n",
      "  from pandas import MultiIndex, Int64Index\n",
      "[Parallel(n_jobs=6)]: Using backend ThreadingBackend with 6 concurrent workers.\n",
      "[Parallel(n_jobs=6)]: Using backend ThreadingBackend with 6 concurrent workers.\n",
      "[Parallel(n_jobs=6)]: Done   5 out of   5 | elapsed:  3.9min finished\n"
     ]
    },
    {
     "name": "stdout",
     "output_type": "stream",
     "text": [
      "iter  1 act 4.674e+05 pre 4.284e+05 delta 1.742e+00 f 9.322e+05 |g| 5.411e+05 CG   1\n",
      "cg reaches trust region boundary\n",
      "iter  2 act 4.836e+04 pre 4.567e+04 delta 2.853e+00 f 4.649e+05 |g| 9.249e+04 CG   2\n",
      "cg reaches trust region boundary\n",
      "iter  3 act 3.749e+04 pre 3.728e+04 delta 1.141e+01 f 4.165e+05 |g| 1.904e+04 CG   2\n",
      "cg reaches trust region boundary\n",
      "iter  4 act 9.590e+04 pre 9.319e+04 delta 1.839e+01 f 3.790e+05 |g| 1.548e+04 CG   2\n",
      "cg reaches trust region boundary\n",
      "iter  5 act 7.126e+04 pre 5.868e+04 delta 2.514e+01 f 2.831e+05 |g| 1.488e+04 CG   2\n",
      "cg reaches trust region boundary\n",
      "iter  6 act 4.082e+04 pre 3.420e+04 delta 3.170e+01 f 2.119e+05 |g| 9.098e+03 CG   2\n",
      "cg reaches trust region boundary\n",
      "iter  7 act 2.322e+04 pre 2.040e+04 delta 3.812e+01 f 1.710e+05 |g| 5.751e+03 CG   3\n",
      "cg reaches trust region boundary\n",
      "iter  8 act 1.123e+04 pre 1.004e+04 delta 4.461e+01 f 1.478e+05 |g| 3.869e+03 CG   5\n",
      "iter  9 act 3.726e+03 pre 3.560e+03 delta 4.461e+01 f 1.366e+05 |g| 2.445e+03 CG   6\n"
     ]
    },
    {
     "name": "stderr",
     "output_type": "stream",
     "text": [
      "[03:54:41] WARNING: ../src/learner.cc:576: \n",
      "Parameters: { \"verbose\" } might not be used.\n",
      "\n",
      "  This could be a false alarm, with some parameters getting used by language bindings but\n",
      "  then being mistakenly passed down to XGBoost core, or some parameter actually being used\n",
      "  but getting flagged wrongly here. Please open an issue if you find any such cases.\n",
      "\n"
     ]
    }
   ],
   "source": [
    "LR = LogisticRegression(C=10.539, solver='liblinear', verbose=1, n_jobs=6)\n",
    "NB = naive_bayes.MultinomialNB(alpha=1, fit_prior=True)\n",
    "# RF = RandomForestClassifier(max_depth=200, max_features='sqrt', n_estimators=500, verbose=1, n_jobs=6)\n",
    "LGBM = LGBMClassifier(learning_rate= 0.0938, max_depth= 4, n_estimators= 4031, num_leaves= 4000, n_jobs=6)\n",
    "XGB = XGBClassifier(objective='binary:logistic', seed=12, use_label_encoder=False, verbose=1, n_jobs=6)\n",
    "\n",
    "estimator_list3=[('LR', LR), ('NB', NB), ('LGBM', LGBM), ('XGB', XGB)]\n",
    "\n",
    "clf4 = StackingClassifier(estimators=estimator_list3,\n",
    "                        final_estimator=LogisticRegression(n_jobs=6),\n",
    "                        verbose=1, n_jobs=6, cv=5)\n",
    "\n",
    "clf4.fit(X_train_vec, y_train)"
   ]
  },
  {
   "cell_type": "code",
   "execution_count": null,
   "id": "66246ade",
   "metadata": {},
   "outputs": [],
   "source": [
    "y_pred4 = clf4.predict(X_test_vec)\n",
    "\n",
    "print(classification_report(y_test, y_pred4))"
   ]
  },
  {
   "cell_type": "code",
   "execution_count": null,
   "id": "849be42c",
   "metadata": {},
   "outputs": [],
   "source": []
  }
 ],
 "metadata": {
  "kernelspec": {
   "display_name": "Python 3 (ipykernel)",
   "language": "python",
   "name": "python3"
  },
  "language_info": {
   "codemirror_mode": {
    "name": "ipython",
    "version": 3
   },
   "file_extension": ".py",
   "mimetype": "text/x-python",
   "name": "python",
   "nbconvert_exporter": "python",
   "pygments_lexer": "ipython3",
   "version": "3.9.7"
  }
 },
 "nbformat": 4,
 "nbformat_minor": 5
}
